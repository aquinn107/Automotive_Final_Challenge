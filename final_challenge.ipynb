{
  "nbformat": 4,
  "nbformat_minor": 0,
  "metadata": {
    "colab": {
      "name": "final challenge.ipynb",
      "provenance": [],
      "collapsed_sections": []
    },
    "kernelspec": {
      "name": "python3",
      "display_name": "Python 3"
    },
    "language_info": {
      "name": "python"
    }
  },
  "cells": [
    {
      "cell_type": "code",
      "metadata": {
        "id": "C5CXhCk3k5QM",
        "colab": {
          "base_uri": "https://localhost:8080/"
        },
        "outputId": "cb337a3f-3afc-4497-fdc3-eda583df3967"
      },
      "source": [
        "import os\n",
        "# Find the latest version of spark 3.0  from http://www-us.apache.org/dist/spark/ and enter as the spark version\n",
        "# For example:\n",
        "# spark_version = 'spark-3.0.1'\n",
        "spark_version = 'spark-3.1.2'\n",
        "os.environ['SPARK_VERSION']=spark_version\n",
        "# Install Spark and Java\n",
        "!apt-get update\n",
        "!apt-get install openjdk-11-jdk-headless -qq > /dev/null\n",
        "!wget -q http://www-us.apache.org/dist/spark/$SPARK_VERSION/$SPARK_VERSION-bin-hadoop2.7.tgz\n",
        "!tar xf $SPARK_VERSION-bin-hadoop2.7.tgz\n",
        "!pip install -q findspark\n",
        "# Set Environment Variables\n",
        "os.environ[\"JAVA_HOME\"] = \"/usr/lib/jvm/java-11-openjdk-amd64\"\n",
        "os.environ[\"SPARK_HOME\"] = f\"/content/{spark_version}-bin-hadoop2.7\"\n",
        "# Start a SparkSession\n",
        "import findspark\n",
        "findspark.init()"
      ],
      "execution_count": 1,
      "outputs": [
        {
          "output_type": "stream",
          "text": [
            "\r0% [Working]\r            \rHit:1 https://cloud.r-project.org/bin/linux/ubuntu bionic-cran40/ InRelease\n",
            "\r0% [Connecting to archive.ubuntu.com (91.189.88.142)] [Waiting for headers] [Co\r                                                                               \rIgn:2 https://developer.download.nvidia.com/compute/cuda/repos/ubuntu1804/x86_64  InRelease\n",
            "\r0% [Connecting to archive.ubuntu.com (91.189.88.142)] [Waiting for headers] [Co\r0% [1 InRelease gpgv 3,626 B] [Connecting to archive.ubuntu.com (91.189.88.142)\r                                                                               \rIgn:3 https://developer.download.nvidia.com/compute/machine-learning/repos/ubuntu1804/x86_64  InRelease\n",
            "\r0% [1 InRelease gpgv 3,626 B] [Connecting to archive.ubuntu.com (91.189.88.142)\r                                                                               \rGet:4 http://security.ubuntu.com/ubuntu bionic-security InRelease [88.7 kB]\n",
            "\r0% [1 InRelease gpgv 3,626 B] [Connecting to archive.ubuntu.com (91.189.88.142)\r                                                                               \rGet:5 https://developer.download.nvidia.com/compute/cuda/repos/ubuntu1804/x86_64  Release [697 B]\n",
            "\r0% [1 InRelease gpgv 3,626 B] [Connecting to archive.ubuntu.com (91.189.88.142)\r0% [1 InRelease gpgv 3,626 B] [Connecting to archive.ubuntu.com (91.189.88.142)\r                                                                               \rHit:6 https://developer.download.nvidia.com/compute/machine-learning/repos/ubuntu1804/x86_64  Release\n",
            "Get:7 https://developer.download.nvidia.com/compute/cuda/repos/ubuntu1804/x86_64  Release.gpg [836 B]\n",
            "Hit:8 http://archive.ubuntu.com/ubuntu bionic InRelease\n",
            "Hit:9 http://ppa.launchpad.net/c2d4u.team/c2d4u4.0+/ubuntu bionic InRelease\n",
            "Get:10 http://archive.ubuntu.com/ubuntu bionic-updates InRelease [88.7 kB]\n",
            "Hit:11 http://ppa.launchpad.net/cran/libgit2/ubuntu bionic InRelease\n",
            "Get:13 http://ppa.launchpad.net/deadsnakes/ppa/ubuntu bionic InRelease [15.9 kB]\n",
            "Get:14 http://archive.ubuntu.com/ubuntu bionic-backports InRelease [74.6 kB]\n",
            "Ign:15 https://developer.download.nvidia.com/compute/cuda/repos/ubuntu1804/x86_64  Packages\n",
            "Get:15 https://developer.download.nvidia.com/compute/cuda/repos/ubuntu1804/x86_64  Packages [599 kB]\n",
            "Get:16 http://ppa.launchpad.net/graphics-drivers/ppa/ubuntu bionic InRelease [21.3 kB]\n",
            "Get:17 http://security.ubuntu.com/ubuntu bionic-security/restricted amd64 Packages [473 kB]\n",
            "Get:18 http://security.ubuntu.com/ubuntu bionic-security/main amd64 Packages [2,220 kB]\n",
            "Get:19 http://security.ubuntu.com/ubuntu bionic-security/universe amd64 Packages [1,418 kB]\n",
            "Get:20 http://archive.ubuntu.com/ubuntu bionic-updates/universe amd64 Packages [2,188 kB]\n",
            "Get:21 http://ppa.launchpad.net/deadsnakes/ppa/ubuntu bionic/main amd64 Packages [40.9 kB]\n",
            "Get:22 http://archive.ubuntu.com/ubuntu bionic-updates/restricted amd64 Packages [505 kB]\n",
            "Get:23 http://archive.ubuntu.com/ubuntu bionic-updates/main amd64 Packages [2,653 kB]\n",
            "Get:24 http://ppa.launchpad.net/graphics-drivers/ppa/ubuntu bionic/main amd64 Packages [41.5 kB]\n",
            "Fetched 10.4 MB in 4s (2,800 kB/s)\n",
            "Reading package lists... Done\n"
          ],
          "name": "stdout"
        }
      ]
    },
    {
      "cell_type": "code",
      "metadata": {
        "id": "oR3rxIklilxM"
      },
      "source": [
        "# Start Spark session\n",
        "from pyspark.sql import SparkSession\n",
        "spark = SparkSession.builder.appName(\"Vehicle\").getOrCreate()"
      ],
      "execution_count": 4,
      "outputs": []
    },
    {
      "cell_type": "code",
      "metadata": {
        "colab": {
          "base_uri": "https://localhost:8080/"
        },
        "id": "gbNDyy9Xg_v2",
        "outputId": "e0c6e049-39a2-457b-dbc0-d50914765a55"
      },
      "source": [
        "# Read in data from S3 Buckets\n",
        "from pyspark import SparkFiles\n",
        "url=\"https://finalchallenge.s3.us-east-2.amazonaws.com/Motor_Vehicle_Crashes_-_Vehicle_Information__Three_Year_Window.csv\"\n",
        "spark.sparkContext.addFile(url)\n",
        "all_vehicle_three_year_data_df = spark.read.csv(SparkFiles.get(\"Motor_Vehicle_Crashes_-_Vehicle_Information__Three_Year_Window.csv\"), sep=\",\", header=True, inferSchema=True)\n",
        "# Show DataFrame\n",
        "all_vehicle_three_year_data_df.show()"
      ],
      "execution_count": 10,
      "outputs": [
        {
          "output_type": "stream",
          "text": [
            "+----+---------------+-----------------+--------------------+------------------------+----------------------------+-------------------+-----------+------------+---------------------+-------------------+----------------+------------+---------------------+---------------------------------+---------------------+---------------------------------+--------------------+-----------------+\n",
            "|Year|Case Vehicle ID|Vehicle Body Type|  Registration Class|Action Prior to Accident|Type / Axles of Truck or Bus|Direction of Travel|  Fuel Type|Vehicle Year|State of Registration|Number of Occupants|Engine Cylinders|Vehicle Make|Contributing Factor 1|Contributing Factor 1 Description|Contributing Factor 2|Contributing Factor 2 Description|          Event Type|      Partial VIN|\n",
            "+----+---------------+-----------------+--------------------+------------------------+----------------------------+-------------------+-----------+------------+---------------------+-------------------+----------------+------------+---------------------+---------------------------------+---------------------+---------------------------------+--------------------+-----------------+\n",
            "|2018|       15232120|        VAN TRUCK|  AGRICULTURAL TRUCK|                  Parked|                 Not Entered|              North|        Gas|        2015|                   NY|                  0|               4|       NISSA|                HUMAN|                      Not Entered|                HUMAN|                      Not Entered|         Not Entered|3N6CM0KN2FK713460|\n",
            "|2018|       15232535|         SUBURBAN|PASSENGER OR SUBU...|           Making U Turn|                 Not Entered|              South|        Gas|        2015|                   NY|                  1|               6|       HONDA|                HUMAN|                      Not Entered|                HUMAN|                          Unknown|         Not Entered|5J6TF2H55FL001556|\n",
            "|2018|       15232536|            SEDAN|         Not Entered|    Going Straight Ahead|                 Not Entered|              North|Not Entered|        null|                   PA|                  1|            null|        null|                HUMAN|                      Not Entered|                HUMAN|                          Unknown|         Not Entered|             null|\n",
            "|2018|       15232557|     4 DOOR SEDAN|PASSENGER OR SUBU...|                  Parked|                 Not Entered|              South|        Gas|        2013|                   NY|                  5|               4|       NISSA|                HUMAN|             Passenger Distrac...|              VEHICLE|                           Other*|         Not Entered|1N4AL3AP8DC229156|\n",
            "|2018|       15232556|         SUBURBAN|PASSENGER OR SUBU...|    Going Straight Ahead|                 Not Entered|              South|        Gas|        2009|                   NY|                  2|               8|       CADIL|                HUMAN|                   Not Applicable|                HUMAN|                   Not Applicable|         Not Entered|3GYFK22209G213337|\n",
            "|2018|       15233276|     4 DOOR SEDAN|PASSENGER OR SUBU...|                  Parked|                 Not Entered|               West|        Gas|        2008|                   NY|                  0|               6|       PONTI|                HUMAN|                   Not Applicable|                HUMAN|                   Not Applicable|      Not Applicable|2G2WP552081121158|\n",
            "|2018|       15233275|     2 DOOR SEDAN|PASSENGER OR SUBU...|                 Backing|                 Not Entered|               West|        Gas|        1997|                   NY|                  1|               6|       BUICK|                HUMAN|                   Not Applicable|                HUMAN|                 Backing Unsafely|      Not Applicable|1G4GD2219V4712927|\n",
            "|2018|       15233301|     4 DOOR SEDAN|PASSENGER OR SUBU...|                 Backing|                 Not Entered|               East|        Gas|        2007|                   NY|                  1|               4|       NISSA|                HUMAN|                   Not Applicable|                HUMAN|                 Backing Unsafely|      Not Applicable|1N4AL21E27N432898|\n",
            "|2018|       15233300|          TRACTOR|         Not Entered|                  Parked|                 Not Entered|               West|Not Entered|        2017|                   RI|                  0|            null|        PTRB|                HUMAN|                   Not Applicable|                HUMAN|                   Not Applicable|      Not Applicable|1XPBDP0X9HD419079|\n",
            "|2018|       15233304|     4 DOOR SEDAN|         Not Entered|    Going Straight Ahead|                 Not Entered|              North|Not Entered|        2016|                   NY|                  1|            null|        FORD|                HUMAN|                   Not Applicable|                ENVMT|                  Animal's Action|      Not Applicable|1FAHP2MK0GG133791|\n",
            "|2018|       15233323|     4 DOOR SEDAN|PASSENGER OR SUBU...|                 Backing|                 Not Entered|               East|        Gas|        2005|                   NY|                  1|               4|       TOYOT|                HUMAN|                   Not Applicable|                HUMAN|                 Backing Unsafely|      Not Applicable|2T1BR32E55C473110|\n",
            "|2018|       15233322|     2 DOOR SEDAN|PASSENGER OR SUBU...|    Starting from Par...|                 Not Entered|               West|        Gas|        2015|                   NY|                  1|               4|       VOLKS|                HUMAN|                   Not Applicable|                HUMAN|                   Not Applicable|      Not Applicable|3VWF17AT5FM602808|\n",
            "|2018|       15233326|     4 DOOR SEDAN|         Not Entered|    Going Straight Ahead|                 Not Entered|               East|Not Entered|        2016|                   NJ|                  1|            null|        HOND|                HUMAN|                   Not Applicable|                HUMAN|                     Unsafe Speed|Earth Embankment/...|19XFC2F73GE215374|\n",
            "|2018|       15233338|     PICKUP TRUCK|PASSENGER OR SUBU...|    Going Straight Ahead|                 Not Entered|               East|        Gas|        2013|                   NY|                  1|               8|       CHEVR|                HUMAN|                   Not Applicable|                ENVMT|                Pavement Slippery|      Not Applicable|1GCRKSE79DZ185489|\n",
            "|2018|       15233340|         SUBURBAN|         Not Entered|    Going Straight Ahead|                 Not Entered|               East|Not Entered|        2003|                   PA|                  3|            null|        HOND|                HUMAN|                   Not Applicable|                HUMAN|                   Not Applicable|      Not Applicable|SHSRD78823U159096|\n",
            "|2018|       15233339|         SUBURBAN|PASSENGER OR SUBU...|        Making Left Turn|                 Not Entered|          Northwest|        Gas|        2010|                   NY|                  1|               6|       TOYOT|                HUMAN|                   Not Applicable|                HUMAN|             Failure to Yield ...|      Not Applicable|JTEBU5JR8A5003672|\n",
            "|2018|       15233343|     PICKUP TRUCK|         Not Entered|    Going Straight Ahead|                 Not Entered|               East|Not Entered|        null|                   NY|                  1|            null|        null|                HUMAN|                      Not Entered|                HUMAN|             Aggressive Drivin...|         Not Entered|             null|\n",
            "|2018|       15233344|     PICKUP TRUCK|PASSENGER OR SUBU...|        Making Left Turn|                 Not Entered|               West|        Gas|        2012|                   NY|                  1|               8|       CHEVR|                HUMAN|                   Not Applicable|                HUMAN|                   Not Applicable|         Not Entered|1GCRKSE71CZ200596|\n",
            "|2018|       15233366|  UNKNOWN VEHICLE|         Not Entered|                 Unknown|                 Not Entered|            Unknown|Not Entered|        null|                 null|               null|            null|        null|                HUMAN|                   Not Applicable|                HUMAN|                          Unknown|      Not Applicable|             null|\n",
            "|2018|       15233367|     4 DOOR SEDAN|PASSENGER OR SUBU...|                  Parked|                 Not Entered|              South|        Gas|        2014|                   NY|                  0|               6|        AUDI|                HUMAN|                   Not Applicable|                HUMAN|                   Not Applicable|      Not Applicable|WAUWGAFC7EN084631|\n",
            "+----+---------------+-----------------+--------------------+------------------------+----------------------------+-------------------+-----------+------------+---------------------+-------------------+----------------+------------+---------------------+---------------------------------+---------------------+---------------------------------+--------------------+-----------------+\n",
            "only showing top 20 rows\n",
            "\n"
          ],
          "name": "stdout"
        }
      ]
    },
    {
      "cell_type": "code",
      "metadata": {
        "colab": {
          "base_uri": "https://localhost:8080/"
        },
        "id": "NUIsGL-Wg_2_",
        "outputId": "a30da93c-b7af-4eff-e29e-f1972aeb23ff"
      },
      "source": [
        "# Read in data from S3 Buckets\n",
        "from pyspark import SparkFiles\n",
        "url=\"https://finalchallenge.s3.us-east-2.amazonaws.com/Vehicle__Snowmobile__and_Boat_Registrations.csv\"\n",
        "spark.sparkContext.addFile(url)\n",
        "all_vehicle_registration_data_df = spark.read.csv(SparkFiles.get(\"Vehicle__Snowmobile__and_Boat_Registrations.csv\"), sep=\",\", header=True, inferSchema=True)\n",
        "# Show DataFrame\n",
        "all_vehicle_registration_data_df.show()"
      ],
      "execution_count": 11,
      "outputs": [
        {
          "output_type": "stream",
          "text": [
            "+-----------+---------------+------------------+--------------+-----+-----+------------+----------+-----+---------+---------+--------------+--------------------+----------+--------------+-------------------+-----+------------------+--------------------+--------------------+\n",
            "|Record Type|            VIN|Registration Class|          City|State|  Zip|      County|Model Year| Make|Body Type|Fuel Type|Unladen Weight|Maximum Gross Weight|Passengers|Reg Valid Date|Reg Expiration Date|Color|Scofflaw Indicator|Suspension Indicator|Revocation Indicator|\n",
            "+-----------+---------------+------------------+--------------+-----+-----+------------+----------+-----+---------+---------+--------------+--------------------+----------+--------------+-------------------+-----+------------------+--------------------+--------------------+\n",
            "|       BOAT|   999999999999|               BOT|           RYE|   NY|10580| WESTCHESTER|      1940|FAIRF|     BOAT|      GAS|          null|                null|      null|    03/10/2020|         04/30/2023| null|                 N|                   N|                   N|\n",
            "|       BOAT|         999955|               BOT|    STAATSBURG|   NY|12580|    DUTCHESS|      1955|STARC|     BOAT|      GAS|          null|                null|      null|    05/15/2020|         04/30/2023| null|                 N|                   N|                   N|\n",
            "|        VEH|        9999236|               HIS|        ROSLYN|   NY|11576|      NASSAU|      1937| CHRY|     4DSD|      GAS|          6300|                null|      null|    07/21/2020|         06/23/2021|   BK|                 N|                   N|                   N|\n",
            "|        TRL|           9999|               LTR|   BETHEL PARK|   PA|15102|OUT-OF-STATE|      1980| CRCF|     LTRL|     NONE|          null|                3000|      null|    09/30/2020|         12/31/2021|   BR|                 N|                   N|                   N|\n",
            "|       BOAT|         999747|               BOT|      CORTLAND|   NY|13045|    CORTLAND|      1971|STARC|     BOAT|      GAS|          null|                null|      null|    05/18/2020|         04/30/2023| null|                 N|                   N|                   N|\n",
            "|       BOAT|         999733|               BOT|      CANEADEA|   NY|14717|    ALLEGANY|      1971|STARC|     BOAT|      GAS|          null|                null|      null|    06/10/2020|         05/31/2023| null|                 N|                   N|                   N|\n",
            "|       BOAT|         999703|               BOT|      LOCKPORT|   NY|14094|     NIAGARA|      1971|STARC|     BOAT|     NONE|          null|                null|      null|    05/20/2020|         04/30/2023| null|                 N|                   N|                   N|\n",
            "|       BOAT|          9997R|               BOT|   LITTLE YORK|   NY|13087|    CORTLAND|      1968|HERTE|     BOAT|      GAS|          null|                null|      null|    09/30/2019|         08/31/2022| null|                 N|                   N|                   N|\n",
            "|       BOAT|         999647|               BOT|        RUXTON|   MD|21204|OUT-OF-STATE|      1969|ST/CR|     BOAT|      GAS|          null|                null|      null|    03/05/2019|         03/31/2022| null|                 N|                   N|                   N|\n",
            "|       BOAT|         999626|               BOT|     CANASTOTA|   NY|13032|     MADISON|      1970|ST/CR|     BOAT|      GAS|          null|                null|      null|    03/05/2020|         04/30/2023| null|                 N|                   N|                   N|\n",
            "|        TRL|          99960|               LTR|   SILVER LAKE|   NY|14549|     WYOMING|      1959|TEENE|     LTRL|     NONE|          null|                1500|      null|    04/13/2021|         12/31/2021|   WH|                 N|                   N|                   N|\n",
            "|       BOAT|         999595|               BOT|        NAPLES|   NY|14512|       YATES|      1973|ST/CR|     BOAT|      GAS|          null|                null|      null|    04/03/2019|         04/30/2022| null|                 N|                   N|                   N|\n",
            "|       BOAT|         999536|               BOT|  PENNELLVILLE|   NY|13132|      OSWEGO|      1971|STARC|     BOAT|      GAS|          null|                null|      null|    06/26/2020|         06/30/2023| null|                 N|                   N|                   N|\n",
            "|       BOAT|         999506|               BOT|  BEAVER FALLS|   NY|13305|       LEWIS|      1970|ST/CR|     BOAT|      GAS|          null|                null|      null|    05/08/2020|         04/30/2023| null|                 N|                   N|                   N|\n",
            "|        TRL|           9995|               TRL|        MALONE|   NY|12953|    FRANKLIN|      1980|HOMEM|     UTIL|     NONE|          null|                5500|      null|    12/18/2020|         12/31/2021|   BK|                 N|                   N|                   N|\n",
            "|       BOAT|    99949037575|               BOT|    MANORVILLE|   NY|11949|     SUFFOLK|      1975|ROBAL|     BOAT|      GAS|          null|                null|      null|    07/28/2020|         06/30/2023| null|                 N|                   N|                   N|\n",
            "|        TRL|          99944|               LTR|  ORCHARD PARK|   NY|14127|        ERIE|      1956|HOMEM|     LTRL|     NONE|          null|                2000|      null|    10/24/2020|         12/31/2021|   BK|                 N|                   N|                   N|\n",
            "|        VEH|    999407G3573|               PAS|SARATOGA SPRIN|   NY|12866|    SARATOGA|      1976|LA/RO|     SUBN|      GAS|          3500|                null|      null|    03/03/2021|         05/12/2023|   WH|                 N|                   N|                   N|\n",
            "|       BOAT|         999310|               BOT|        ALBANY|   NY|12205|      ALBANY|      1971|STARC|     BOAT|      GAS|          null|                null|      null|    06/22/2020|         07/31/2023| null|                 N|                   N|                   N|\n",
            "|        TRL|999307132382096|               LTR|        NAPLES|   NY|14512|     ONTARIO|      2009|HOMEM|     LTRL|     NONE|          null|                1445|      null|    11/28/2020|         12/31/2021|   GY|                 N|                   N|                   N|\n",
            "+-----------+---------------+------------------+--------------+-----+-----+------------+----------+-----+---------+---------+--------------+--------------------+----------+--------------+-------------------+-----+------------------+--------------------+--------------------+\n",
            "only showing top 20 rows\n",
            "\n"
          ],
          "name": "stdout"
        }
      ]
    }
  ]
}